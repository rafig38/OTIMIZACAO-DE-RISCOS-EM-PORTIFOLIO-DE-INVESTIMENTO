{
 "cells": [
  {
   "cell_type": "markdown",
   "id": "bb1d54fd-e0b9-430c-a89d-64aae2376571",
   "metadata": {},
   "source": [
    "# Importe das bibliotecas necessárias"
   ]
  },
  {
   "cell_type": "code",
   "execution_count": 1,
   "id": "25e82039-d206-4958-94a7-a24fddcf5218",
   "metadata": {},
   "outputs": [],
   "source": [
    "import pandas as pd\n",
    "import numpy as np\n",
    "from pandas_datareader import data as wb\n",
    "import matplotlib.pyplot as plt"
   ]
  },
  {
   "cell_type": "markdown",
   "id": "01f134e3-865e-49d4-811b-e7c9584fe6fb",
   "metadata": {},
   "source": [
    "## Risco individual do Ativo BBDC3 - Bradesco"
   ]
  },
  {
   "cell_type": "code",
   "execution_count": null,
   "id": "30e90502-329c-4b97-b167-199216d926d8",
   "metadata": {},
   "outputs": [],
   "source": [
    "bbdc_prices = wb.DataReader('BBDC3.SA', data_source = 'yahoo', start='2019-01-01')\n",
    "bbdc_prices.head()"
   ]
  },
  {
   "cell_type": "markdown",
   "id": "f634d6d0-2758-41fc-9907-eec3de81af9d",
   "metadata": {},
   "source": [
    "### Interessa apenas a última coluna do dataset que é [Adj Close], pois nos oferece dados ajustados conforme o pagamento de dividendos. Iremos eliminar as demais colunas (High, Low, Open, Close e Volume), e renomear para BBDC:"
   ]
  },
  {
   "cell_type": "code",
   "execution_count": null,
   "id": "747ae9ed-5d7b-47c9-99ec-219df1aa1513",
   "metadata": {},
   "outputs": [],
   "source": [
    "# Renomeia a coluna adj close\n",
    "bbdc_prices.rename(columns = {\"Adj Close\":\"BBDC\"}, inplace = True)\n",
    "\n",
    "# Remove as colunas\n",
    "bbdc = bbdc_prices.drop(bbdc_prices.columns[[0,1,2,3,4]], axis = 1)"
   ]
  },
  {
   "cell_type": "markdown",
   "id": "44c7debd-331f-4328-b0ee-5d039505a59b",
   "metadata": {},
   "source": [
    "## Retornos da série histórica de preços da BBDC3 - (Preço Final – Preço inicial)/Preço Final - variações percentuais:"
   ]
  },
  {
   "cell_type": "code",
   "execution_count": null,
   "id": "e4462201-7262-4b5e-aa35-12add39f7d00",
   "metadata": {},
   "outputs": [],
   "source": [
    "bbdc_returns = bbdc.pct_change()"
   ]
  },
  {
   "cell_type": "code",
   "execution_count": null,
   "id": "d3146783-b7e5-4dc4-b8bf-35753bc9e388",
   "metadata": {},
   "outputs": [],
   "source": [
    "bbdc.returns.head()"
   ]
  },
  {
   "cell_type": "markdown",
   "id": "36505b79-45b1-4df1-aab7-b34b07f22fc6",
   "metadata": {},
   "source": [
    "## “log-return” -> retornos logarítmicos dos preços. Representam melhor os retornos acumulados que o retorno linear:"
   ]
  },
  {
   "cell_type": "code",
   "execution_count": null,
   "id": "7b1ace2b-9c0d-4f17-ab13-f41f7796178b",
   "metadata": {},
   "outputs": [],
   "source": [
    "# Retornos de LOG diários\n",
    "bbdc_log_returns = np.log(bbdc/bbdc.shift(1))"
   ]
  },
  {
   "cell_type": "markdown",
   "id": "9ecacbb8-a1a1-4e12-8daa-c14cf65eec8a",
   "metadata": {},
   "source": [
    "## Gráfico dos retornos para observar o comportamento:"
   ]
  },
  {
   "cell_type": "code",
   "execution_count": null,
   "id": "b67e6206-54c9-486d-8b7c-be44bdfbec59",
   "metadata": {},
   "outputs": [],
   "source": [
    "# Plot do gráfico de retornos\n",
    "bbdc_log_returns.plot()"
   ]
  },
  {
   "cell_type": "markdown",
   "id": "33423591-5106-4212-bcf0-d5e0eb634ebb",
   "metadata": {},
   "source": [
    "## Plot dos retornos em histograma:"
   ]
  },
  {
   "cell_type": "code",
   "execution_count": null,
   "id": "72fa2eca-bd23-4ec4-8005-2cf63c8e4ac4",
   "metadata": {},
   "outputs": [],
   "source": [
    "# Gráfico de distribuição dos retornos\n",
    "bbdc_log_returns.plot.hist(bins = 60)\n",
    "plt.show()"
   ]
  },
  {
   "cell_type": "markdown",
   "id": "9fca0a46-b6ab-4fe7-b932-5d4ac4c3dba1",
   "metadata": {},
   "source": [
    "## Calculando o risco individual de cada ativo através do desvio padrão:"
   ]
  },
  {
   "cell_type": "code",
   "execution_count": null,
   "id": "2d3f6cb8-f38a-4f3e-8b06-74ef31256f61",
   "metadata": {},
   "outputs": [],
   "source": [
    "# Volatilidade diária\n",
    "volatilidade_diaria = np.std(bbdc_returns['BBDC'])"
   ]
  },
  {
   "cell_type": "markdown",
   "id": "54bc4c47-1383-4635-804b-9242669ed74a",
   "metadata": {},
   "source": [
    "## “Printando” a volatilidade diária:"
   ]
  },
  {
   "cell_type": "code",
   "execution_count": null,
   "id": "e9496640-ba84-4e15-9b32-feb7d17c33da",
   "metadata": {},
   "outputs": [],
   "source": [
    "print(volatilidade_diaria)"
   ]
  },
  {
   "cell_type": "markdown",
   "id": "3b5bb8cc-26cf-48ef-a0f9-b34cdebfd80a",
   "metadata": {},
   "source": [
    "## Volatilidade anual:"
   ]
  },
  {
   "cell_type": "code",
   "execution_count": null,
   "id": "1ad451e4-95ba-4acc-bbe1-a79e48e20164",
   "metadata": {},
   "outputs": [],
   "source": [
    "volatilidade_anual = volatilidade_diaria*np.sqrt(252)\n",
    "print(volatilidade_anual)"
   ]
  },
  {
   "cell_type": "markdown",
   "id": "ca534fc5-0ef7-42ca-a7d1-c67dd5ceca1e",
   "metadata": {},
   "source": [
    "## Calcular o desvio padrão dos retornos que estão abaixo de zero. \n",
    "## Ou seja, aqueles retornos que representam as perdas diárias:"
   ]
  },
  {
   "cell_type": "code",
   "execution_count": null,
   "id": "b17b2d1c-97c6-4fe9-b11f-c4b389f64254",
   "metadata": {},
   "outputs": [],
   "source": [
    "semivariancia = np.std(bbdc_returns['BBDC'] < 0)\n",
    "print(semivariancia)"
   ]
  },
  {
   "cell_type": "markdown",
   "id": "5684427c-9035-435f-b65f-a7cc9d9f4635",
   "metadata": {},
   "source": [
    "## Calcular os DRAWDOWN -> máxima queda que os retornos acumulados tiveram em um determinado período, podendo ser analisado como a queda máxima da semana, do mês, do ano ou de um período específico."
   ]
  },
  {
   "cell_type": "markdown",
   "id": "16253fe0-413b-4c8b-95e1-a16e994bb7ba",
   "metadata": {},
   "source": [
    "### 1 - Calcular os retornos acumulados em base 100:"
   ]
  },
  {
   "cell_type": "code",
   "execution_count": null,
   "id": "b5c264a4-fedf-4307-a321-b6b982cdf364",
   "metadata": {},
   "outputs": [],
   "source": [
    "retorno_acumulado = bbdc_log_returns*100"
   ]
  },
  {
   "cell_type": "markdown",
   "id": "6fc19d03-7cda-403b-9190-90a7134b75f6",
   "metadata": {},
   "source": [
    "### 2 - Retirar os NaNs e substituí-los por zero:"
   ]
  },
  {
   "cell_type": "code",
   "execution_count": null,
   "id": "cf7752ed-95a0-4a4e-ab54-28357c1fff56",
   "metadata": {},
   "outputs": [],
   "source": [
    "retorno_acumulado = retorno_acumulado['BBDC'].fillna(0)"
   ]
  },
  {
   "cell_type": "markdown",
   "id": "c4fe68d1-c35d-464a-9a03-3755f9395dee",
   "metadata": {},
   "source": [
    "### 3 - Calcular o ponto máximo dos acumulados utilizando o Numpy e garantir que não fique abaixo de 1:"
   ]
  },
  {
   "cell_type": "code",
   "execution_count": null,
   "id": "4924080c-59b3-44a7-b009-9c66600eb0aa",
   "metadata": {},
   "outputs": [],
   "source": [
    "ponto_maximo = np.maximum.accumulate(retorno_acumulado)\n",
    "ponto_maximo[ponto_maximo < 1] = 1"
   ]
  },
  {
   "cell_type": "markdown",
   "id": "dda61375-ce11-48a3-bf15-35acb13dd244",
   "metadata": {},
   "source": [
    "### 4 - Calcular o drawdown:"
   ]
  },
  {
   "cell_type": "code",
   "execution_count": null,
   "id": "09b75330-2867-4d1f-aabf-48857864098d",
   "metadata": {},
   "outputs": [],
   "source": [
    "drawdown = (retorno_acumulado)/running_max - 1"
   ]
  },
  {
   "cell_type": "markdown",
   "id": "1441df19-9a7c-4cc6-9f2c-21c477a350e7",
   "metadata": {},
   "source": [
    "### 5 - Plotar para ver o resultado:"
   ]
  },
  {
   "cell_type": "code",
   "execution_count": null,
   "id": "ee168bdc-7cef-4399-a7a1-1fd8eb2eb2bb",
   "metadata": {},
   "outputs": [],
   "source": [
    "drawdown.plot()\n",
    "<matplotlib.axes._subplots.AxesSubplot at 0x1236d5f8>"
   ]
  },
  {
   "cell_type": "markdown",
   "id": "1f6637cd-9fa2-46e4-9ffb-21c36f0dd2f5",
   "metadata": {},
   "source": [
    "# CAPM e Beta"
   ]
  },
  {
   "cell_type": "markdown",
   "id": "737f501c-2edb-4af8-b2f2-f46e40edebc9",
   "metadata": {},
   "source": [
    "## Beta"
   ]
  },
  {
   "cell_type": "markdown",
   "id": "1bd8bea6-bfd3-4013-adfe-249288e01c20",
   "metadata": {},
   "source": [
    "## Para calcular o beta iremos utilizar os seguintes passos:"
   ]
  },
  {
   "cell_type": "markdown",
   "id": "10f85dd8-1812-469a-a4c5-ad614f8f74c1",
   "metadata": {},
   "source": [
    "### 1 - Importar o Ibovespa e dar o mesmo tratamento de dados anterior que demos a BBDC3:"
   ]
  },
  {
   "cell_type": "code",
   "execution_count": null,
   "id": "85299685-6ef9-4968-a228-ec939f3cdcac",
   "metadata": {},
   "outputs": [],
   "source": [
    "ibov = wb.DataReader('^IBVSP', data_source = 'yahoo', start = '2019-01-01')\n",
    "ibov.rename(columns = {\"Adj Close\":\"IBOV\"}, inplace = True)\n",
    "ibov = ibov.drop(ibov.columns[[0,1,2,3,4]], axis = 1)\n",
    "ibov_returns = np.log(ibov/ibov.shift(1))"
   ]
  },
  {
   "cell_type": "markdown",
   "id": "b27ac47d-5db3-4ed8-870e-5ba7bca60f78",
   "metadata": {},
   "source": [
    "### 2 - Calcular a variância do ibov:"
   ]
  },
  {
   "cell_type": "code",
   "execution_count": null,
   "id": "27de4053-d7af-46aa-85a0-19df97896534",
   "metadata": {},
   "outputs": [],
   "source": [
    "ibov_var = ibov_returns.var()"
   ]
  },
  {
   "cell_type": "markdown",
   "id": "6268d053-76ce-42c9-822f-b65317b746cb",
   "metadata": {},
   "source": [
    "### 3 - Juntar os dataframes:"
   ]
  },
  {
   "cell_type": "code",
   "execution_count": null,
   "id": "866ca510-45a6-4960-bea6-5b374a7162fb",
   "metadata": {},
   "outputs": [],
   "source": [
    "from functools import reduce\n",
    "join_bbdc_ibov = ([bbdc_log_returns, ibov_returns])\n",
    "cov_bbdc = reduce(lambda left, right: pd.merge(left, right, on = ['Date'], how = 'inner'), join_bbdc_ibov)"
   ]
  },
  {
   "cell_type": "markdown",
   "id": "69548cbe-520a-46be-9a02-27bfcc1607f1",
   "metadata": {},
   "source": [
    "### 4 - Montar a matriz de covariância [BBDC,IBOV] e encontrar o coeficiente"
   ]
  },
  {
   "cell_type": "code",
   "execution_count": null,
   "id": "724f4b50-92fe-434d-bc0c-3c620723cccf",
   "metadata": {},
   "outputs": [],
   "source": [
    "cov_bbdc = cov_bbdc[['BBDC', 'IBOV']].cov\n",
    "cov_bbdc_coef = cov_bbdc.iloc[0,1]"
   ]
  },
  {
   "cell_type": "markdown",
   "id": "c9d7e374-9677-4918-94a5-bb68edffcb3c",
   "metadata": {},
   "source": [
    "### 5 - Calcular o beta dividindo o coeficiente de covariância pela variância do Ibov:"
   ]
  },
  {
   "cell_type": "code",
   "execution_count": null,
   "id": "4e4c51f2-421d-4113-8a56-c0c3cca54b81",
   "metadata": {},
   "outputs": [],
   "source": [
    "beta_bbdc = cov_bbdc_coef/ibov_var\n",
    "print(beta_bbdc)"
   ]
  },
  {
   "cell_type": "markdown",
   "id": "98352b02-8792-4130-822d-6cfa8901b680",
   "metadata": {},
   "source": [
    "## Calculando o beta através da regressão linear"
   ]
  },
  {
   "cell_type": "markdown",
   "id": "3d84378b-92a3-43f0-a562-c8063e3f7060",
   "metadata": {},
   "source": [
    "### 1 - Importar a biblioteca statsmodels:"
   ]
  },
  {
   "cell_type": "code",
   "execution_count": null,
   "id": "72017afc-aa67-4a55-bfaf-3d68f6cd5070",
   "metadata": {},
   "outputs": [],
   "source": [
    "import statsmodels.api as sm"
   ]
  },
  {
   "cell_type": "markdown",
   "id": "21a30611-4dc7-49b6-abbb-44364ceef903",
   "metadata": {},
   "source": [
    "### 2 - Definir a variável beta no método OLS (Ordinary Least Squares):"
   ]
  },
  {
   "cell_type": "code",
   "execution_count": null,
   "id": "7015497e-55af-4c80-bc3f-1dc4ef7ba53f",
   "metadata": {},
   "outputs": [],
   "source": [
    "beta = sm.OLS(bbdc_retornos, ibov_retornos).fit()"
   ]
  },
  {
   "cell_type": "markdown",
   "id": "57604a35-8067-4169-9093-ca98725db270",
   "metadata": {},
   "source": [
    "### 3 - Chamar o método summary para observar os resultados:"
   ]
  },
  {
   "cell_type": "code",
   "execution_count": null,
   "id": "a09ac29f-7b7d-46f0-bd19-126c992eaf59",
   "metadata": {},
   "outputs": [],
   "source": [
    "beta.summary()"
   ]
  },
  {
   "cell_type": "markdown",
   "id": "03ccdf09-186d-459f-adfe-25fa1d14c6ba",
   "metadata": {},
   "source": [
    "# Value at Risk - VaR"
   ]
  },
  {
   "cell_type": "markdown",
   "id": "4476cd90-aad9-4835-89a2-a205ea2c8b0c",
   "metadata": {},
   "source": [
    "### O value at risk é uma medida que mostra para o investidor qual o potencial de perda daquele ativo ou de sua carteira como um todo. O indicador mede o pior cenário que esse ativo ou carteira pode atingir, dadas as condições normais de mercado e um determinado nível de confiança."
   ]
  },
  {
   "cell_type": "markdown",
   "id": "2bcc403d-5e6e-4516-b94c-ff8a891f4a42",
   "metadata": {},
   "source": [
    "## Abordagens para o VaR: Simulação histórica, Variância-Covariância e Paramétrico."
   ]
  },
  {
   "cell_type": "markdown",
   "id": "59c43890-53a3-408f-9b6f-82e2008797c3",
   "metadata": {},
   "source": [
    "## VaR Histórico"
   ]
  },
  {
   "cell_type": "markdown",
   "id": "e9dff28b-2865-4ee8-83d5-bebf859566ab",
   "metadata": {},
   "source": [
    "### Percentil de cada retorno correspondente ao VaR e nível de confiança desejado:"
   ]
  },
  {
   "cell_type": "code",
   "execution_count": null,
   "id": "70040330-09af-41cc-8100-b7693d6924c4",
   "metadata": {},
   "outputs": [],
   "source": [
    "var_90 = np.percentile(bbdc_retornos, 10)\n",
    "var_95 = np.percentile(bbdc_retornos, 5)\n",
    "var_99 = np.percentile(bbdc_retornos, 1)"
   ]
  },
  {
   "cell_type": "markdown",
   "id": "180e9832-08cd-461f-a8a0-002110630ead",
   "metadata": {},
   "source": [
    "## VaR Paramétrico"
   ]
  },
  {
   "cell_type": "markdown",
   "id": "fd6cefa6-e09e-4db0-9e48-acbb0a36b497",
   "metadata": {},
   "source": [
    "### 1 - Importar a função norm do pacote Scipy:"
   ]
  },
  {
   "cell_type": "code",
   "execution_count": null,
   "id": "d0cfc128-e63d-43e5-a738-4964b7772c08",
   "metadata": {},
   "outputs": [],
   "source": [
    "from scipy.stats import norm"
   ]
  },
  {
   "cell_type": "markdown",
   "id": "5a3cebc8-fc23-4716-a506-6dbdaf3eae39",
   "metadata": {},
   "source": [
    "### 2 - Calcular as médias dos retornos através da variável media:"
   ]
  },
  {
   "cell_type": "code",
   "execution_count": null,
   "id": "59d1d886-7ddf-4778-b644-4024fd73c4db",
   "metadata": {},
   "outputs": [],
   "source": [
    "media = np.mean(bbdc_retornos['BBDC'])"
   ]
  },
  {
   "cell_type": "markdown",
   "id": "bb560562-3c4a-4979-a803-09a42e369f93",
   "metadata": {},
   "source": [
    "### 3 - Definir as variáveis dos intervalos de confiança:"
   ]
  },
  {
   "cell_type": "code",
   "execution_count": null,
   "id": "98afd0cc-1531-400e-96dc-261885ad0afa",
   "metadata": {},
   "outputs": [],
   "source": [
    "VaR_90 = norm.ppf(conf_90, media, vol_bbdc)\n",
    "VaR_95 = norm.ppf(conf_95, media, vol_bbdc)\n",
    "VaR_99 = norm.ppf(conf_99, media, vol_bbdc)"
   ]
  },
  {
   "cell_type": "markdown",
   "id": "28e98f7a-cf27-4514-8982-0a726e068da9",
   "metadata": {},
   "source": [
    "## VaR Simulação de Monte Carlo"
   ]
  },
  {
   "cell_type": "markdown",
   "id": "23cd1915-b76f-44a5-82d4-e49ea6c154ef",
   "metadata": {},
   "source": [
    "### Simulação de Monte Carlo em Python:"
   ]
  },
  {
   "cell_type": "markdown",
   "id": "da12eb1f-50c9-4db2-bba3-cf7decbbd6cd",
   "metadata": {},
   "source": [
    "### 1) Definir o dataset retornos_simulados em branco para abrigar as iterações da simulação:"
   ]
  },
  {
   "cell_type": "code",
   "execution_count": null,
   "id": "c87672a1-1643-4f6d-a9cd-0dfd66057b22",
   "metadata": {},
   "outputs": [],
   "source": [
    "retornos_simulados = []"
   ]
  },
  {
   "cell_type": "markdown",
   "id": "06248198-2853-4b5e-b102-bdcc3113527a",
   "metadata": {},
   "source": [
    "### 2) Criar a variável dias_trade para 252 dias pois estamos analisando retornos diários:"
   ]
  },
  {
   "cell_type": "code",
   "execution_count": null,
   "id": "fc799e4e-a844-4ac3-9a23-08fa26d817f3",
   "metadata": {},
   "outputs": [],
   "source": [
    "dias_trade = 252"
   ]
  },
  {
   "cell_type": "markdown",
   "id": "5f4cdb9e-90b0-4da5-9549-f9858aa6f65e",
   "metadata": {},
   "source": [
    "### 3) Criar um loop de 1000 iterações para a Simulação de Monte Carlo:"
   ]
  },
  {
   "cell_type": "code",
   "execution_count": null,
   "id": "b40dedb7-e923-44c3-9308-9b962040bfeb",
   "metadata": {},
   "outputs": [],
   "source": [
    "for i in range (1000):\n",
    "    sim_retornos = np.random.normal(media, vol_bbdc, dias_trade)"
   ]
  },
  {
   "cell_type": "markdown",
   "id": "ec7ad524-ff6a-4167-bb56-f40d6874f3b8",
   "metadata": {},
   "source": [
    "### 4) Anexar as iterações no df retornos_simulados:"
   ]
  },
  {
   "cell_type": "code",
   "execution_count": null,
   "id": "629330f6-3c25-4d00-ad7a-deaed73f703e",
   "metadata": {},
   "outputs": [],
   "source": [
    "retornos_simulados.apped(sim_retornos)"
   ]
  },
  {
   "cell_type": "markdown",
   "id": "60f07237-f880-4dc2-9f34-af62904a44fb",
   "metadata": {},
   "source": [
    "### 5) Calcular o percentil relacionado ao VaR desejado:"
   ]
  },
  {
   "cell_type": "code",
   "execution_count": null,
   "id": "13a29e50-dd5a-4e4c-903f-04128029d90a",
   "metadata": {},
   "outputs": [],
   "source": [
    "var_99 = np.percentile(retornos_simulados, 1)"
   ]
  },
  {
   "cell_type": "markdown",
   "id": "a5cc5dc7-ea5e-4cb7-81cb-473416f3f953",
   "metadata": {},
   "source": [
    "# A otimização de portfólio"
   ]
  },
  {
   "cell_type": "markdown",
   "id": "0136c27a-f6af-45f7-9df5-51239960a37c",
   "metadata": {},
   "source": [
    "## Otimizando portfólio com a biblioteca PyPortfólio"
   ]
  },
  {
   "cell_type": "markdown",
   "id": "5a06b50f-bfc4-4299-abea-b5b6792b4ebb",
   "metadata": {},
   "source": [
    "### Seleção de Ações:"
   ]
  },
  {
   "cell_type": "markdown",
   "id": "a8ae6760-632f-4fc6-88c2-e50a41da5184",
   "metadata": {},
   "source": [
    "### 1) Criar uma lista com os tickers das ações (da mesma maneira que está escrito no Yahoo Finance):"
   ]
  },
  {
   "cell_type": "code",
   "execution_count": null,
   "id": "f2411ef4-7f28-4ee3-90ee-417b9b422786",
   "metadata": {},
   "outputs": [],
   "source": [
    "ativos = ['ITSA4.SA', 'PETR4.SA', 'ABEC3.SA', 'VALE3.SA']"
   ]
  },
  {
   "cell_type": "markdown",
   "id": "636ba02d-5849-43fc-beed-e479a67979f6",
   "metadata": {},
   "source": [
    "### 2) Criar um dataframe vazio para abrigar os dados que vamos coletar:"
   ]
  },
  {
   "cell_type": "code",
   "execution_count": null,
   "id": "694dcef6-d901-420f-bff1-62001070a634",
   "metadata": {},
   "outputs": [],
   "source": [
    "df = pd.DataFrame()"
   ]
  },
  {
   "cell_type": "markdown",
   "id": "a48fe7ca-2956-4ff9-8308-a4bb5a59c9a3",
   "metadata": {},
   "source": [
    "### 3) Fazer um loop para preencher o df com os dados das ações com o campo ‘Adj Close’:"
   ]
  },
  {
   "cell_type": "code",
   "execution_count": null,
   "id": "85d2cb3a-072a-4758-9e61-f1317109ad2a",
   "metadata": {},
   "outputs": [],
   "source": [
    "for t in ativos:\n",
    "    df[t] = wb.DataReader(t, data_source = 'yahoo', start = '2019-01-01', cnd = '2024-01-01')['Adj Close]"
   ]
  },
  {
   "cell_type": "markdown",
   "id": "f63a1f43-6474-4666-b24c-96e07c967460",
   "metadata": {},
   "source": [
    "### 4) A partir das ações escolhidas, analisar o comportamento dos preços entre o período Janeiro-2018 e Janeiro-2020 graficamente:"
   ]
  },
  {
   "cell_type": "code",
   "execution_count": null,
   "id": "e7e6b1fa-1e85-40aa-b36e-77f7d197e373",
   "metadata": {},
   "outputs": [],
   "source": [
    "df.plot()"
   ]
  },
  {
   "cell_type": "markdown",
   "id": "a818dd73-489f-4d47-8578-6164a5391f65",
   "metadata": {},
   "source": [
    "### 5) calcular os retornos diários:"
   ]
  },
  {
   "cell_type": "code",
   "execution_count": null,
   "id": "8e2bf6f2-4671-457b-b0ab-6770fcae4561",
   "metadata": {},
   "outputs": [],
   "source": [
    "retorno = df.pct_change()"
   ]
  },
  {
   "cell_type": "markdown",
   "id": "d5c29a38-53b1-40dc-af7f-5ec6e35a34fc",
   "metadata": {},
   "source": [
    "## Retornos Esperados"
   ]
  },
  {
   "cell_type": "markdown",
   "id": "8c7a2c44-d96c-4565-9290-535d6ede46ed",
   "metadata": {},
   "source": [
    "#### Separar o df em dois anos (250 dias de pregão) para avaliar qual melhor método de previsão de retornos será utilizado para a série de dados"
   ]
  },
  {
   "cell_type": "code",
   "execution_count": null,
   "id": "d4ae41be-1c15-4a69-be52-6c35207063be",
   "metadata": {},
   "outputs": [],
   "source": [
    "df_fut, df_past = df.iloc[:-250], df.iloc[:-250]"
   ]
  },
  {
   "cell_type": "markdown",
   "id": "c5de18ad-58b1-484e-85f1-557e070e5221",
   "metadata": {},
   "source": [
    "## Retorno Médio Histórico"
   ]
  },
  {
   "cell_type": "code",
   "execution_count": null,
   "id": "c0bd7945-a5b1-4c44-bf0f-2b68297e43d0",
   "metadata": {},
   "outputs": [],
   "source": [
    "future_rets_rh = expected_returns.mean_historical_return(df_fut)\n",
    "mu_rh = expected.returns.return_model(df_past, method = \"mean_historical_return\")\n",
    "mean_abs_erros_rh = []\n",
    "mean_abs_erros_rh.append(np.sum(np.abs(mu_rh-future_rets))/len(mu_rh))"
   ]
  },
  {
   "cell_type": "markdown",
   "id": "85f5c80a-451d-481c-8b77-cfb0997eb67e",
   "metadata": {},
   "source": [
    "### Média Móvel Exponencial"
   ]
  },
  {
   "cell_type": "code",
   "execution_count": null,
   "id": "467d4fc2-1bad-4d75-8e41-75f5085c8535",
   "metadata": {},
   "outputs": [],
   "source": [
    "future_rets_ema = expected_returns.ema_historical_return(df_fut)\n",
    "mu_ema = expected.returns.return_model(df_past, method = \"ema_historical_return\")\n",
    "mean_abs_erros_ema = []\n",
    "mean_abs_erros_ema.append(np.sum(np.abs(mu_ema-future_rets))/len(mu_ema))"
   ]
  },
  {
   "cell_type": "markdown",
   "id": "c7e29b93-ece7-43da-ab82-7a682ef9190e",
   "metadata": {},
   "source": [
    "## Capital Asset Pricing Model (CAPM)"
   ]
  },
  {
   "cell_type": "code",
   "execution_count": null,
   "id": "8612db45-4193-4a59-924f-4ccf6f721afa",
   "metadata": {},
   "outputs": [],
   "source": [
    "future_rets_capm = expected_returns.capm_historical_return(df_fut)\n",
    "mu_capm = expected.returns.return_model(df_past, method = \"capm_historical_return\")\n",
    "mean_abs_erros_capm = []\n",
    "mean_abs_erros_capm.append(np.sum(np.abs(mu_capm-future_rets))/len(mu_capm))"
   ]
  },
  {
   "cell_type": "markdown",
   "id": "cf77ebec-fd8d-4e01-957b-9488481d9fd9",
   "metadata": {},
   "source": [
    "# Retorno Esperado"
   ]
  },
  {
   "cell_type": "code",
   "execution_count": null,
   "id": "4e393555-e11a-4fa3-85fa-e4a4509e254c",
   "metadata": {},
   "outputs": [],
   "source": [
    "from pypfopt import expected_returns"
   ]
  },
  {
   "cell_type": "markdown",
   "id": "db8bf1df-3e91-4f05-a73a-85cc4ca13c4d",
   "metadata": {},
   "source": [
    "## Preparar os parâmetros de Selic diária e do Ibovespa como carteira de mercado:"
   ]
  },
  {
   "cell_type": "code",
   "execution_count": null,
   "id": "7d9ae507-0698-497e-a4e1-4ec028ce0d70",
   "metadata": {},
   "outputs": [],
   "source": [
    "# Calculara a selic diária\n",
    "selic_aa = 0.019\n",
    "selic_diaria = (1 + selic_aa)**(1/252)-1\n",
    "\n",
    "# Ibobespa para o perido passado\n",
    "ibov = wb.DataReader('^BVSP', data_source = 'yahoo', start = '2017-01-01', end = '2018-12-31')\n",
    "ibov = ibov.drop(ibov.columns[[0,1,2,3,4]], axis = 1)\n",
    "ibov\n",
    "\n",
    "# Previsão dos retornos através do modelo CAPM\n",
    "re = expected_returns.capm_return(df, market_prices = ibov, risk_free_rate = selic_diaria)\n",
    "re"
   ]
  },
  {
   "cell_type": "markdown",
   "id": "0606795f-8ead-4ff3-ac3c-34bd42a1e1f9",
   "metadata": {},
   "source": [
    "## Matriz de Covariância"
   ]
  },
  {
   "cell_type": "code",
   "execution_count": null,
   "id": "1ac09213-0d21-432b-8379-ac1713c213e2",
   "metadata": {},
   "outputs": [],
   "source": [
    "from pypfopt import risk_models"
   ]
  },
  {
   "cell_type": "markdown",
   "id": "b8a1b0be-7e30-46a0-8525-6ef1d1678326",
   "metadata": {},
   "source": [
    "### Utilizar o método disponível de achatamento da matriz de covariância e o redutor de erros de Ledoit-Wolf:"
   ]
  },
  {
   "cell_type": "code",
   "execution_count": null,
   "id": "59e3d1ee-7bc8-47ec-b3ab-10d54ce7bf27",
   "metadata": {},
   "outputs": [],
   "source": [
    "sample_cov = risk_models.CovarianceShrinkage(df).ledoit_wolf()"
   ]
  },
  {
   "cell_type": "markdown",
   "id": "1d578b50-681d-42a6-a7e5-73873ec8629a",
   "metadata": {},
   "source": [
    "## Portfólio de Mínima-Volatilidade"
   ]
  },
  {
   "cell_type": "markdown",
   "id": "57067d27-490e-440a-a80d-606fcc912099",
   "metadata": {},
   "source": [
    "### Redução de volatilidade, ou seja, uma combinação de pesos que indique o menor ponto de volatilidade do portfólio:"
   ]
  },
  {
   "cell_type": "markdown",
   "id": "404357d7-8e4d-4ebf-85cc-d805bd048970",
   "metadata": {},
   "source": [
    "### Para isso importar o módulo Efficient Frontier"
   ]
  },
  {
   "cell_type": "code",
   "execution_count": null,
   "id": "fdd78160-d219-4ecc-9b58-e55845822c8a",
   "metadata": {},
   "outputs": [],
   "source": [
    "from pypfopt import EfficientFrontier"
   ]
  },
  {
   "cell_type": "markdown",
   "id": "a688ed74-e7b2-4a21-a0e8-28dfc5f0fd43",
   "metadata": {},
   "source": [
    "### Construir o objeto mv na EfficientFrontier e aplicar o método de min_volatility() para realizar a otimização:"
   ]
  },
  {
   "cell_type": "code",
   "execution_count": null,
   "id": "ebba2ca8-c3dd-417e-adb6-78cf3cac8894",
   "metadata": {},
   "outputs": [],
   "source": [
    "mv = EfficientFrontier(re, sample_cov)\n",
    "mv.min_volatility()"
   ]
  },
  {
   "cell_type": "markdown",
   "id": "8d3d5b88-bf93-4d37-82cd-a96e54797c6a",
   "metadata": {},
   "source": [
    "### O método clean_weights ajuda a criar um objeto lista para os pesos do portfólio otimizado:"
   ]
  },
  {
   "cell_type": "code",
   "execution_count": null,
   "id": "99966fc2-8bc8-4810-8b9b-cee4d2ab4ba8",
   "metadata": {},
   "outputs": [],
   "source": [
    "pesos_vol = mv.clear_weights()\n",
    "pesos_vol\n",
    "# O output dessa função são os pesos que o algoritmo de otimização nos dá para cada ativo."
   ]
  },
  {
   "cell_type": "markdown",
   "id": "47a2409c-9479-4bab-86be-89cf8f944d27",
   "metadata": {},
   "source": [
    "#### O ativo PETR4.SA está com peso zerado, muitas vezes isso pode acontecer devido a disparidade de volatilidade que ele tem perante os outros ativos da carteira, o algoritmo age até o limite da otimização e como não há restrições de peso mínimo ele irá passar exatamete a melhor solução matemática para o problema de otimização.\n",
    "#### Uma maneira de contornar esses problemas de alocação é através da função de regularização L2 que está dentro do módulo objective_functions:"
   ]
  },
  {
   "cell_type": "code",
   "execution_count": null,
   "id": "1cc9ed41-600d-4712-b83e-9dcad6c2b44f",
   "metadata": {},
   "outputs": [],
   "source": [
    "from pypfopt import objective_functions"
   ]
  },
  {
   "cell_type": "markdown",
   "id": "99666da9-66fb-4d1f-bdd3-5ab5d49f44ea",
   "metadata": {},
   "source": [
    "#### Construir novamente a estrutura de mínima volatilidade dessa vez adicionando como objetivo da otimização a função regularizadora com fator gamma de 10%, dessa maneira ela irá tratar esses pesos zero de maneira diferente conferindo a eles alguma distribuição de percentual:"
   ]
  },
  {
   "cell_type": "code",
   "execution_count": null,
   "id": "47beb95f-a8e1-448b-8bd2-4450ef8c631e",
   "metadata": {},
   "outputs": [],
   "source": [
    "mv2 = EfficientFrontier(re, sample_cov)\n",
    "mv2.add_objective(objective_functions.L2_reg, gamma = 0.1)\n",
    "mv2.min_volativility()\n",
    "pesos2 = mv_clear_weights()\n",
    "pesos2\n",
    "# O output desse bloco de código será o dicionário de pesos."
   ]
  },
  {
   "cell_type": "markdown",
   "id": "27723963-fa38-4a0d-b8b8-8d0593a2ce68",
   "metadata": {},
   "source": [
    "# Maximização do índice de Sharpe\n",
    "## Tem como objetivo otimizar a relação prêmio-pelo-risco-retorno através da clássica fórmula de Índice de Sharpe (Taxa livre de risco – Retorno da Carteira)/Volatilidade da Carteira."
   ]
  },
  {
   "cell_type": "code",
   "execution_count": null,
   "id": "894363cd-520b-48a0-999f-9c4f7a778936",
   "metadata": {},
   "outputs": [],
   "source": [
    "# Maximização de Sharpe\n",
    "msharpe = EfficientFrontier(re, sample_cov)\n",
    "msharpe.max_sharpe(risk_free_rate = selic_aa)\n",
    "sharpe_pesos = msharpe.clearn_weights()\n",
    "sharpe_pesos\n",
    "# O output do objeto sharpe_pesos será um dicionário com os pesos otimizados"
   ]
  },
  {
   "cell_type": "markdown",
   "id": "ace08839-1c68-43d3-8064-21d5f6640900",
   "metadata": {},
   "source": [
    "### Transformar o dicionário em lista para auxiliar nos cálculos:"
   ]
  },
  {
   "cell_type": "code",
   "execution_count": null,
   "id": "0d6c8498-8159-4931-b22d-ff4c90d51d0b",
   "metadata": {},
   "outputs": [],
   "source": [
    "lista_sharpe = sharpe_pessos.values()\n",
    "lista_sharpe = list(lista_sharpe)\n",
    "lista_sharpe"
   ]
  },
  {
   "cell_type": "markdown",
   "id": "7505b794-a14d-4b89-8ab4-0a0f56cec407",
   "metadata": {},
   "source": [
    "# Risco Eficiente"
   ]
  },
  {
   "cell_type": "markdown",
   "id": "54f31407-e610-43da-8fb2-57ac136f50bf",
   "metadata": {},
   "source": [
    "#### O modelo de otimização risco eficiente permite que você estabeleça um objetivo de volatilidade para o seu portfólio dessa maneira permitindo que se calcule a máxima rentabilidade, dado esse objetivo. Nesse caso teremos como objetivo 20% de volatilidade:"
   ]
  },
  {
   "cell_type": "code",
   "execution_count": null,
   "id": "ec933211-c542-484d-9094-af9887bfea39",
   "metadata": {},
   "outputs": [],
   "source": [
    "r_eficiente = EfficientFrontier(re, sample_cov)\n",
    "r_eficiente.efficient_risk(target_volatility = 0.2)\n",
    "r_eficiente_pesos = r_eficiente.clean_weights()\n",
    "r_eficiente_pesos"
   ]
  },
  {
   "cell_type": "markdown",
   "id": "240f0db0-902a-4c11-83bc-d2f322a26931",
   "metadata": {},
   "source": [
    "# Retorno Eficiente"
   ]
  },
  {
   "cell_type": "code",
   "execution_count": null,
   "id": "98e63851-79e0-4cf7-aaae-8336acb2af02",
   "metadata": {},
   "outputs": [],
   "source": [
    "re_eficiente = EfficientFrontier(re, sample_cov)\n",
    "re_eficiente.efficient_risk(target_volatility = 0.25)\n",
    "re_eficiente_pesos = re_eficiente.clean_weights()\n",
    "re_eficiente_pesos\n",
    "# O output serão os pesos otimizados dado o objetivo de retorno"
   ]
  },
  {
   "cell_type": "markdown",
   "id": "67868dfa-d2fc-417b-9836-bc5a915fbc94",
   "metadata": {},
   "source": [
    "# Modelos de Otimização com restrições"
   ]
  },
  {
   "cell_type": "markdown",
   "id": "e2ceea9f-32ee-4414-b23d-655a7f4a76ce",
   "metadata": {},
   "source": [
    "## Restrições Setoriais"
   ]
  },
  {
   "cell_type": "code",
   "execution_count": null,
   "id": "6ea90b29-b582-47cd-b76d-bf7f5b49bc93",
   "metadata": {},
   "outputs": [],
   "source": [
    "sector_mapper = {\n",
    "    \"BBDC3.SA\" : \"FINANCEIRO\",\n",
    "    \"PETR4.SA\" : \"COMMODITIES\",\n",
    "    \"ABEV3.SA\" : \"VAREJO\",\n",
    "    \"VALE3.SA\" ; \"COMMODITIES\"\n",
    "}\n",
    "\n",
    "sector_lower = {\"COMMODITIES\": 0.05} #>= 5% DE COMODITES\n",
    "sector_upper = {\"VAREJO\": 0.10} #<= 10% EM VAREJO\n",
    "\n",
    "rest_setor = EfficientFrontier(re, sample_cov)\n",
    "rest_setor.add_sector_constraints(sector_mapper, sector_lower, sector_upper)\n",
    "rest_setor.max_sharpe()\n",
    "rest_setor_pesos = rest_sector.clearn_weights()\n",
    "rest_setor_pesos"
   ]
  },
  {
   "cell_type": "markdown",
   "id": "52598a1d-7f99-481b-922f-3433c6c7f0c4",
   "metadata": {},
   "source": [
    "## Restrição de ativo específico"
   ]
  },
  {
   "cell_type": "code",
   "execution_count": null,
   "id": "561f2970-b101-4956-8fa6-a92643370489",
   "metadata": {},
   "outputs": [],
   "source": [
    "restricao_acao = EfficientFrontier(re, sample_cov)"
   ]
  },
  {
   "cell_type": "markdown",
   "id": "ab7c72a6-053a-45ba-b3ab-ebbcf97d0051",
   "metadata": {},
   "source": [
    "### Construir as restrições de otimização. Buscar o ticker da ação através de \"tickers.index\" para trazer exatamente o papel PETR4.SA:"
   ]
  },
  {
   "cell_type": "code",
   "execution_count": null,
   "id": "12c7a9ed-430c-4e21-9f4d-8fe9b4862cde",
   "metadata": {},
   "outputs": [],
   "source": [
    "petr = restricao_acao.tickers.index(\"PETR4.SA\")\n",
    "restricao_acao.add_constraint(lambda w: w[petr] <= 0.10)"
   ]
  },
  {
   "cell_type": "markdown",
   "id": "b8542b33-402e-4ee1-a2eb-c0a7f63a6be1",
   "metadata": {},
   "source": [
    "### Por último, realizar a otimização e extrair os pesos selecionados:"
   ]
  },
  {
   "cell_type": "code",
   "execution_count": null,
   "id": "e181ddb4-be9d-48cd-8acf-df24acd30d8e",
   "metadata": {},
   "outputs": [],
   "source": [
    "# Otimização\n",
    "restricao_acao.max_sharpe()\n",
    "\n",
    "# Pesos\n",
    "pesos_acao = restricao_acao.clearn_weights()\n",
    "pesos_acao"
   ]
  }
 ],
 "metadata": {
  "kernelspec": {
   "display_name": "Python 3 (ipykernel)",
   "language": "python",
   "name": "python3"
  },
  "language_info": {
   "codemirror_mode": {
    "name": "ipython",
    "version": 3
   },
   "file_extension": ".py",
   "mimetype": "text/x-python",
   "name": "python",
   "nbconvert_exporter": "python",
   "pygments_lexer": "ipython3",
   "version": "3.11.7"
  }
 },
 "nbformat": 4,
 "nbformat_minor": 5
}
